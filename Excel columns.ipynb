{
 "cells": [
  {
   "cell_type": "markdown",
   "metadata": {},
   "source": [
    "#### Spreadsheets often use this alphabetical encoding for its columns: \"A\", \"B\", \"C\", ..., \"AA\", \"AB\", ..., \"ZZ\", \"AAA\", \"AAB\", ....\n",
    "\n",
    "#### Given a column number, return its alphabetical column id. For example, given 1, return \"A\". Given 27, return \"AA\"."
   ]
  },
  {
   "cell_type": "markdown",
   "metadata": {},
   "source": [
    "Primeiro importamos string para puxar as letras do alfabeto. "
   ]
  },
  {
   "cell_type": "code",
   "execution_count": 1,
   "metadata": {},
   "outputs": [],
   "source": [
    "import string"
   ]
  },
  {
   "cell_type": "markdown",
   "metadata": {},
   "source": [
    "Aqui vemos qual devemos puxar para virem todas as letras maiúsculas"
   ]
  },
  {
   "cell_type": "code",
   "execution_count": 2,
   "metadata": {},
   "outputs": [],
   "source": [
    "#string?"
   ]
  },
  {
   "cell_type": "code",
   "execution_count": 3,
   "metadata": {},
   "outputs": [
    {
     "name": "stdout",
     "output_type": "stream",
     "text": [
      "ABCDEFGHIJKLMNOPQRSTUVWXYZ\n"
     ]
    }
   ],
   "source": [
    "l = string.ascii_uppercase\n",
    "print(l)"
   ]
  },
  {
   "cell_type": "code",
   "execution_count": 4,
   "metadata": {},
   "outputs": [
    {
     "data": {
      "text/plain": [
       "26"
      ]
     },
     "execution_count": 4,
     "metadata": {},
     "output_type": "execute_result"
    }
   ],
   "source": [
    "len(l)"
   ]
  },
  {
   "cell_type": "markdown",
   "metadata": {},
   "source": [
    "Criamos a função achar_coluna para usarmos quantas vezes quisermos. "
   ]
  },
  {
   "cell_type": "code",
   "execution_count": 5,
   "metadata": {},
   "outputs": [],
   "source": [
    "def achar_coluna(n):\n",
    "    qtd_letras = 1\n",
    "    minimo = 1\n",
    "    maximo = 26\n",
    "#A princípio pensei em usar if mas o correto é o while para termos uma fórmula genérica.\n",
    "    while n > maximo:\n",
    "        qtd_letras += 1\n",
    "        minimo = maximo + 1\n",
    "        maximo += len(l) ** qtd_letras\n",
    "#Nesse trecho tiramos a quantidade de letras que devemos ter na resposta, o máximo e o \n",
    "#mínimo possível com determinada quantidade de letras.\n",
    "    print(minimo, maximo, qtd_letras)\n",
    "\n",
    "#O próximo passo foi criar uma lista vazia (nome_coluna) para preencher com as letras e uma \n",
    "#variável auxiliar (x) para rodar um loop while.\n",
    "    nome_coluna = []\n",
    "    x = 0\n",
    "    while x <= qtd_letras - 1:\n",
    "        a = (n % 26)\n",
    "        nome_coluna.append(l[a - 1])\n",
    "        n = n // 26\n",
    "        x += 1\n",
    "#Cada volta no loop nos traz uma letra que é adicionada na lista.\n",
    "#Por fim retornamos os itens da lista concatenados e invertidos para a resposta correta.\n",
    "    return \"\".join(nome_coluna[::-1])"
   ]
  },
  {
   "cell_type": "code",
   "execution_count": 6,
   "metadata": {},
   "outputs": [
    {
     "name": "stdout",
     "output_type": "stream",
     "text": [
      "18279 475254 4\n"
     ]
    },
    {
     "data": {
      "text/plain": [
       "'AAAA'"
      ]
     },
     "execution_count": 6,
     "metadata": {},
     "output_type": "execute_result"
    }
   ],
   "source": [
    "achar_coluna(18279)"
   ]
  },
  {
   "cell_type": "code",
   "execution_count": null,
   "metadata": {},
   "outputs": [],
   "source": []
  }
 ],
 "metadata": {
  "kernelspec": {
   "display_name": "Python 3",
   "language": "python",
   "name": "python3"
  },
  "language_info": {
   "codemirror_mode": {
    "name": "ipython",
    "version": 3
   },
   "file_extension": ".py",
   "mimetype": "text/x-python",
   "name": "python",
   "nbconvert_exporter": "python",
   "pygments_lexer": "ipython3",
   "version": "3.7.3"
  }
 },
 "nbformat": 4,
 "nbformat_minor": 2
}
